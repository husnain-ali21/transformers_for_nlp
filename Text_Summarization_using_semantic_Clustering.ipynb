{
  "nbformat": 4,
  "nbformat_minor": 0,
  "metadata": {
    "colab": {
      "name": "Text Summarization using semantic Clustering.ipynb",
      "provenance": [],
      "authorship_tag": "ABX9TyO1NasoVNOavddGRWLBfwWO"
    },
    "kernelspec": {
      "name": "python3",
      "display_name": "Python 3"
    },
    "language_info": {
      "name": "python"
    },
    "widgets": {
      "application/vnd.jupyter.widget-state+json": {
        "460b31a1d9524e0385737828d7c5638e": {
          "model_module": "@jupyter-widgets/controls",
          "model_name": "HBoxModel",
          "state": {
            "_view_name": "HBoxView",
            "_dom_classes": [],
            "_model_name": "HBoxModel",
            "_view_module": "@jupyter-widgets/controls",
            "_model_module_version": "1.5.0",
            "_view_count": null,
            "_view_module_version": "1.5.0",
            "box_style": "",
            "layout": "IPY_MODEL_0c88ba5779154553850dff0504d4ed94",
            "_model_module": "@jupyter-widgets/controls",
            "children": [
              "IPY_MODEL_b42beb5f462a4707971a73b2a1353169",
              "IPY_MODEL_4077ca302c504d7cafca4c9804a34ede"
            ]
          }
        },
        "0c88ba5779154553850dff0504d4ed94": {
          "model_module": "@jupyter-widgets/base",
          "model_name": "LayoutModel",
          "state": {
            "_view_name": "LayoutView",
            "grid_template_rows": null,
            "right": null,
            "justify_content": null,
            "_view_module": "@jupyter-widgets/base",
            "overflow": null,
            "_model_module_version": "1.2.0",
            "_view_count": null,
            "flex_flow": null,
            "width": null,
            "min_width": null,
            "border": null,
            "align_items": null,
            "bottom": null,
            "_model_module": "@jupyter-widgets/base",
            "top": null,
            "grid_column": null,
            "overflow_y": null,
            "overflow_x": null,
            "grid_auto_flow": null,
            "grid_area": null,
            "grid_template_columns": null,
            "flex": null,
            "_model_name": "LayoutModel",
            "justify_items": null,
            "grid_row": null,
            "max_height": null,
            "align_content": null,
            "visibility": null,
            "align_self": null,
            "height": null,
            "min_height": null,
            "padding": null,
            "grid_auto_rows": null,
            "grid_gap": null,
            "max_width": null,
            "order": null,
            "_view_module_version": "1.2.0",
            "grid_template_areas": null,
            "object_position": null,
            "object_fit": null,
            "grid_auto_columns": null,
            "margin": null,
            "display": null,
            "left": null
          }
        },
        "b42beb5f462a4707971a73b2a1353169": {
          "model_module": "@jupyter-widgets/controls",
          "model_name": "FloatProgressModel",
          "state": {
            "_view_name": "ProgressView",
            "style": "IPY_MODEL_5d1489c4d79d4c54a11bd7d15dee7575",
            "_dom_classes": [],
            "description": "100%",
            "_model_name": "FloatProgressModel",
            "bar_style": "success",
            "max": 460546867,
            "_view_module": "@jupyter-widgets/controls",
            "_model_module_version": "1.5.0",
            "value": 460546867,
            "_view_count": null,
            "_view_module_version": "1.5.0",
            "orientation": "horizontal",
            "min": 0,
            "description_tooltip": null,
            "_model_module": "@jupyter-widgets/controls",
            "layout": "IPY_MODEL_c931ff929f0c473288c5c5bc86f0a4f8"
          }
        },
        "4077ca302c504d7cafca4c9804a34ede": {
          "model_module": "@jupyter-widgets/controls",
          "model_name": "HTMLModel",
          "state": {
            "_view_name": "HTMLView",
            "style": "IPY_MODEL_b323057e5bbe4b828aa9ac482114c692",
            "_dom_classes": [],
            "description": "",
            "_model_name": "HTMLModel",
            "placeholder": "​",
            "_view_module": "@jupyter-widgets/controls",
            "_model_module_version": "1.5.0",
            "value": " 461M/461M [00:29&lt;00:00, 15.5MB/s]",
            "_view_count": null,
            "_view_module_version": "1.5.0",
            "description_tooltip": null,
            "_model_module": "@jupyter-widgets/controls",
            "layout": "IPY_MODEL_2a8c87aec370495dba71090629494986"
          }
        },
        "5d1489c4d79d4c54a11bd7d15dee7575": {
          "model_module": "@jupyter-widgets/controls",
          "model_name": "ProgressStyleModel",
          "state": {
            "_view_name": "StyleView",
            "_model_name": "ProgressStyleModel",
            "description_width": "initial",
            "_view_module": "@jupyter-widgets/base",
            "_model_module_version": "1.5.0",
            "_view_count": null,
            "_view_module_version": "1.2.0",
            "bar_color": null,
            "_model_module": "@jupyter-widgets/controls"
          }
        },
        "c931ff929f0c473288c5c5bc86f0a4f8": {
          "model_module": "@jupyter-widgets/base",
          "model_name": "LayoutModel",
          "state": {
            "_view_name": "LayoutView",
            "grid_template_rows": null,
            "right": null,
            "justify_content": null,
            "_view_module": "@jupyter-widgets/base",
            "overflow": null,
            "_model_module_version": "1.2.0",
            "_view_count": null,
            "flex_flow": null,
            "width": null,
            "min_width": null,
            "border": null,
            "align_items": null,
            "bottom": null,
            "_model_module": "@jupyter-widgets/base",
            "top": null,
            "grid_column": null,
            "overflow_y": null,
            "overflow_x": null,
            "grid_auto_flow": null,
            "grid_area": null,
            "grid_template_columns": null,
            "flex": null,
            "_model_name": "LayoutModel",
            "justify_items": null,
            "grid_row": null,
            "max_height": null,
            "align_content": null,
            "visibility": null,
            "align_self": null,
            "height": null,
            "min_height": null,
            "padding": null,
            "grid_auto_rows": null,
            "grid_gap": null,
            "max_width": null,
            "order": null,
            "_view_module_version": "1.2.0",
            "grid_template_areas": null,
            "object_position": null,
            "object_fit": null,
            "grid_auto_columns": null,
            "margin": null,
            "display": null,
            "left": null
          }
        },
        "b323057e5bbe4b828aa9ac482114c692": {
          "model_module": "@jupyter-widgets/controls",
          "model_name": "DescriptionStyleModel",
          "state": {
            "_view_name": "StyleView",
            "_model_name": "DescriptionStyleModel",
            "description_width": "",
            "_view_module": "@jupyter-widgets/base",
            "_model_module_version": "1.5.0",
            "_view_count": null,
            "_view_module_version": "1.2.0",
            "_model_module": "@jupyter-widgets/controls"
          }
        },
        "2a8c87aec370495dba71090629494986": {
          "model_module": "@jupyter-widgets/base",
          "model_name": "LayoutModel",
          "state": {
            "_view_name": "LayoutView",
            "grid_template_rows": null,
            "right": null,
            "justify_content": null,
            "_view_module": "@jupyter-widgets/base",
            "overflow": null,
            "_model_module_version": "1.2.0",
            "_view_count": null,
            "flex_flow": null,
            "width": null,
            "min_width": null,
            "border": null,
            "align_items": null,
            "bottom": null,
            "_model_module": "@jupyter-widgets/base",
            "top": null,
            "grid_column": null,
            "overflow_y": null,
            "overflow_x": null,
            "grid_auto_flow": null,
            "grid_area": null,
            "grid_template_columns": null,
            "flex": null,
            "_model_name": "LayoutModel",
            "justify_items": null,
            "grid_row": null,
            "max_height": null,
            "align_content": null,
            "visibility": null,
            "align_self": null,
            "height": null,
            "min_height": null,
            "padding": null,
            "grid_auto_rows": null,
            "grid_gap": null,
            "max_width": null,
            "order": null,
            "_view_module_version": "1.2.0",
            "grid_template_areas": null,
            "object_position": null,
            "object_fit": null,
            "grid_auto_columns": null,
            "margin": null,
            "display": null,
            "left": null
          }
        }
      }
    }
  },
  "cells": [
    {
      "cell_type": "code",
      "metadata": {
        "colab": {
          "base_uri": "https://localhost:8080/"
        },
        "id": "qnUpa-Q0gD-W",
        "outputId": "dd9b7c6e-b639-4ae0-889c-75630bd1968a"
      },
      "source": [
        "!pip install sentence_transformers"
      ],
      "execution_count": 2,
      "outputs": [
        {
          "output_type": "stream",
          "text": [
            "Collecting sentence_transformers\n",
            "\u001b[?25l  Downloading https://files.pythonhosted.org/packages/35/aa/f672ce489063c4ee7a566ebac1b723c53ac0cea19d9e36599cc241d8ed56/sentence-transformers-1.0.4.tar.gz (74kB)\n",
            "\u001b[K     |████████████████████████████████| 81kB 2.8MB/s \n",
            "\u001b[?25hCollecting transformers<5.0.0,>=3.1.0\n",
            "\u001b[?25l  Downloading https://files.pythonhosted.org/packages/d8/b2/57495b5309f09fa501866e225c84532d1fd89536ea62406b2181933fb418/transformers-4.5.1-py3-none-any.whl (2.1MB)\n",
            "\u001b[K     |████████████████████████████████| 2.1MB 4.9MB/s \n",
            "\u001b[?25hRequirement already satisfied: tqdm in /usr/local/lib/python3.7/dist-packages (from sentence_transformers) (4.41.1)\n",
            "Requirement already satisfied: torch>=1.6.0 in /usr/local/lib/python3.7/dist-packages (from sentence_transformers) (1.8.1+cu101)\n",
            "Requirement already satisfied: numpy in /usr/local/lib/python3.7/dist-packages (from sentence_transformers) (1.19.5)\n",
            "Requirement already satisfied: scikit-learn in /usr/local/lib/python3.7/dist-packages (from sentence_transformers) (0.22.2.post1)\n",
            "Requirement already satisfied: scipy in /usr/local/lib/python3.7/dist-packages (from sentence_transformers) (1.4.1)\n",
            "Requirement already satisfied: nltk in /usr/local/lib/python3.7/dist-packages (from sentence_transformers) (3.2.5)\n",
            "Collecting sentencepiece\n",
            "\u001b[?25l  Downloading https://files.pythonhosted.org/packages/f5/99/e0808cb947ba10f575839c43e8fafc9cc44e4a7a2c8f79c60db48220a577/sentencepiece-0.1.95-cp37-cp37m-manylinux2014_x86_64.whl (1.2MB)\n",
            "\u001b[K     |████████████████████████████████| 1.2MB 12.7MB/s \n",
            "\u001b[?25hRequirement already satisfied: regex!=2019.12.17 in /usr/local/lib/python3.7/dist-packages (from transformers<5.0.0,>=3.1.0->sentence_transformers) (2019.12.20)\n",
            "Collecting sacremoses\n",
            "\u001b[?25l  Downloading https://files.pythonhosted.org/packages/08/cd/342e584ee544d044fb573ae697404ce22ede086c9e87ce5960772084cad0/sacremoses-0.0.44.tar.gz (862kB)\n",
            "\u001b[K     |████████████████████████████████| 870kB 21.8MB/s \n",
            "\u001b[?25hRequirement already satisfied: filelock in /usr/local/lib/python3.7/dist-packages (from transformers<5.0.0,>=3.1.0->sentence_transformers) (3.0.12)\n",
            "Collecting tokenizers<0.11,>=0.10.1\n",
            "\u001b[?25l  Downloading https://files.pythonhosted.org/packages/ae/04/5b870f26a858552025a62f1649c20d29d2672c02ff3c3fb4c688ca46467a/tokenizers-0.10.2-cp37-cp37m-manylinux2010_x86_64.whl (3.3MB)\n",
            "\u001b[K     |████████████████████████████████| 3.3MB 23.8MB/s \n",
            "\u001b[?25hRequirement already satisfied: requests in /usr/local/lib/python3.7/dist-packages (from transformers<5.0.0,>=3.1.0->sentence_transformers) (2.23.0)\n",
            "Requirement already satisfied: packaging in /usr/local/lib/python3.7/dist-packages (from transformers<5.0.0,>=3.1.0->sentence_transformers) (20.9)\n",
            "Requirement already satisfied: importlib-metadata; python_version < \"3.8\" in /usr/local/lib/python3.7/dist-packages (from transformers<5.0.0,>=3.1.0->sentence_transformers) (3.10.0)\n",
            "Requirement already satisfied: typing-extensions in /usr/local/lib/python3.7/dist-packages (from torch>=1.6.0->sentence_transformers) (3.7.4.3)\n",
            "Requirement already satisfied: joblib>=0.11 in /usr/local/lib/python3.7/dist-packages (from scikit-learn->sentence_transformers) (1.0.1)\n",
            "Requirement already satisfied: six in /usr/local/lib/python3.7/dist-packages (from nltk->sentence_transformers) (1.15.0)\n",
            "Requirement already satisfied: click in /usr/local/lib/python3.7/dist-packages (from sacremoses->transformers<5.0.0,>=3.1.0->sentence_transformers) (7.1.2)\n",
            "Requirement already satisfied: chardet<4,>=3.0.2 in /usr/local/lib/python3.7/dist-packages (from requests->transformers<5.0.0,>=3.1.0->sentence_transformers) (3.0.4)\n",
            "Requirement already satisfied: idna<3,>=2.5 in /usr/local/lib/python3.7/dist-packages (from requests->transformers<5.0.0,>=3.1.0->sentence_transformers) (2.10)\n",
            "Requirement already satisfied: urllib3!=1.25.0,!=1.25.1,<1.26,>=1.21.1 in /usr/local/lib/python3.7/dist-packages (from requests->transformers<5.0.0,>=3.1.0->sentence_transformers) (1.24.3)\n",
            "Requirement already satisfied: certifi>=2017.4.17 in /usr/local/lib/python3.7/dist-packages (from requests->transformers<5.0.0,>=3.1.0->sentence_transformers) (2020.12.5)\n",
            "Requirement already satisfied: pyparsing>=2.0.2 in /usr/local/lib/python3.7/dist-packages (from packaging->transformers<5.0.0,>=3.1.0->sentence_transformers) (2.4.7)\n",
            "Requirement already satisfied: zipp>=0.5 in /usr/local/lib/python3.7/dist-packages (from importlib-metadata; python_version < \"3.8\"->transformers<5.0.0,>=3.1.0->sentence_transformers) (3.4.1)\n",
            "Building wheels for collected packages: sentence-transformers, sacremoses\n",
            "  Building wheel for sentence-transformers (setup.py) ... \u001b[?25l\u001b[?25hdone\n",
            "  Created wheel for sentence-transformers: filename=sentence_transformers-1.0.4-cp37-none-any.whl size=114307 sha256=6171e9e265c986ff62ede81e847cf079c77320cb0c58221516a730cbba2c3daa\n",
            "  Stored in directory: /root/.cache/pip/wheels/26/ea/89/d0d2e013d951b6d23270aa9ca4018b82632ab7cd933c331316\n",
            "  Building wheel for sacremoses (setup.py) ... \u001b[?25l\u001b[?25hdone\n",
            "  Created wheel for sacremoses: filename=sacremoses-0.0.44-cp37-none-any.whl size=886084 sha256=7c95845b0dc45e3275adbf87cab740b7e8b217ed8a966dc1d9c27f7cada979a1\n",
            "  Stored in directory: /root/.cache/pip/wheels/3e/fb/c0/13ab4d63d537658f448366744654323077c4d90069b6512f3c\n",
            "Successfully built sentence-transformers sacremoses\n",
            "Installing collected packages: sacremoses, tokenizers, transformers, sentencepiece, sentence-transformers\n",
            "Successfully installed sacremoses-0.0.44 sentence-transformers-1.0.4 sentencepiece-0.1.95 tokenizers-0.10.2 transformers-4.5.1\n"
          ],
          "name": "stdout"
        }
      ]
    },
    {
      "cell_type": "code",
      "metadata": {
        "id": "Rg6x6gItgD0R"
      },
      "source": [
        ""
      ],
      "execution_count": null,
      "outputs": []
    },
    {
      "cell_type": "code",
      "metadata": {
        "id": "iPOkxlSofwKZ"
      },
      "source": [
        "from sentence_transformers import SentenceTransformer\n",
        "import nltk\n",
        "from nltk.cluster import KMeansClusterer\n",
        "import numpy as np\n",
        "import pandas as pd"
      ],
      "execution_count": 3,
      "outputs": []
    },
    {
      "cell_type": "code",
      "metadata": {
        "colab": {
          "base_uri": "https://localhost:8080/"
        },
        "id": "TFYPB2nfiFdc",
        "outputId": "fa7b3763-4fd3-49e4-d638-57377be44fb2"
      },
      "source": [
        "nltk.download('punkt')"
      ],
      "execution_count": 9,
      "outputs": [
        {
          "output_type": "stream",
          "text": [
            "[nltk_data] Downloading package punkt to /root/nltk_data...\n",
            "[nltk_data]   Unzipping tokenizers/punkt.zip.\n"
          ],
          "name": "stdout"
        },
        {
          "output_type": "execute_result",
          "data": {
            "text/plain": [
              "True"
            ]
          },
          "metadata": {
            "tags": []
          },
          "execution_count": 9
        }
      ]
    },
    {
      "cell_type": "code",
      "metadata": {
        "colab": {
          "base_uri": "https://localhost:8080/",
          "height": 66,
          "referenced_widgets": [
            "460b31a1d9524e0385737828d7c5638e",
            "0c88ba5779154553850dff0504d4ed94",
            "b42beb5f462a4707971a73b2a1353169",
            "4077ca302c504d7cafca4c9804a34ede",
            "5d1489c4d79d4c54a11bd7d15dee7575",
            "c931ff929f0c473288c5c5bc86f0a4f8",
            "b323057e5bbe4b828aa9ac482114c692",
            "2a8c87aec370495dba71090629494986"
          ]
        },
        "id": "KK1KiXqbf9eY",
        "outputId": "96fcbc78-7114-4bd4-e957-aa4efde5e193"
      },
      "source": [
        "semantics_extractor = SentenceTransformer('stsb-roberta-base') #sts stands for semantic textual  similarity \n"
      ],
      "execution_count": 4,
      "outputs": [
        {
          "output_type": "display_data",
          "data": {
            "application/vnd.jupyter.widget-view+json": {
              "model_id": "460b31a1d9524e0385737828d7c5638e",
              "version_minor": 0,
              "version_major": 2
            },
            "text/plain": [
              "HBox(children=(FloatProgress(value=0.0, max=460546867.0), HTML(value='')))"
            ]
          },
          "metadata": {
            "tags": []
          }
        },
        {
          "output_type": "stream",
          "text": [
            "\n"
          ],
          "name": "stdout"
        }
      ]
    },
    {
      "cell_type": "code",
      "metadata": {
        "id": "XCTOKJfxg2nm"
      },
      "source": [
        "article = '''This week's launch of Aston Martin’s new Formula 1 car was one of the most hyped events of the pre-season so far, as fans were intrigued by how the new-look AMR21 would be painted. Unlike the car launches that came before it, Aston Martin left very little to the imagination, releasing detailed shots of the entire car. The first thing to note is that the team spent both of its development tokens on redesigning the chassis, in order that it could unlock aerodynamic performance from the central portion of the car. This is, in part, a legacy of the team’s approach for 2020, having assimilated the overall design package of the previous year’s championship winning Mercedes including a more conventional position for the side-impact protection spars (SIPS). The low-slung arrangement, as introduced by Ferrari in 2017, is now considered critical from an aerodynamic perspective, with the sidepod inlet positioned much like a periscope. This is typically above the fairing that surrounds the SIPS, which is used to inhibit the turbulence created by the front tyre and therefore also aids the transit of cool air that’s supplied to the radiators within the sidepods. This image of the car depicts how the bargeboards are used to filter the turbulence created by the front tyre and convert it into something more usable. Meanwhile, the airflow fed from the front of the car, including the cape, is forced around the underside of the sidepod whilst the fairing around the SIPS shields the airflow entering the sidepod inlet. This should result in a much cleaner flow arriving at the radiators, with the air having not been worked too hard by numerous surfaces en route. The inlet itself is extremely narrow with the team recovering some of that with the sculpting on the sides of the chassis. The narrowness of the inlet also draws your attention to the substantial fin that grows out of the sidepod’s shoulder and helps to divert airflow down over the revamped sidepod packaging behind. This is an area where the team has clearly focused its resources, knowing that getting this right will reap aerodynamic rewards for other areas of the car. The sidepod design draws inspiration from the new bodywork that the team installed in Mugello last season (below) but falls short of having the full ramp to floor transition, instead favouring the dipped midriff like we’ve seen adopted elsewhere. The rear portion of the sidepods and the engine cover have extremely tight packaging, with the AMR21 akin to the W12 with the bodywork almost shrink wrapped to the componentry inside. And, much like the W12, it also features a bodywork blister around the inlet plenum, a feature of the power unit which is believed to be bigger this season as a result of some of the performance and durability updates introduced by HPP. The AMR12 also features a very small rear cooling outlet that not only shows how efficient they expect the Mercedes-AMG F1 M12 E Performance power unit to be, but also how much they have focused on producing a car that recovers the downforce lost by the introduction of the new regulations. The extremely tight packaging creates a sizable undercut beneath the cooling outlet too, which buys back some of the floor that has been lost to the new regulations and drives home the performance of the coke bottle region. This is aided further by the token-free adoption of the Mercedes gearbox carrier and rear suspension from last season, an arrangement that Mercedes was particularly proud of because of the aerodynamic gains that it facilitates. The new arrangement sees the suspension elements lifted clear of the diffuser ceiling, which has become more prominent as the teams push the boundaries of the regulations, while the rear leg of the lower wishbone being positioned so far back also results in the ability to extract more performance from the diffuser. Aston Martin is the first team to unmask all the aerodynamic tricks it will use to make up the difference on the edge of the diagonal floor cut-out. The first of these tricks shares a similarity to the design shown by AlphaTauri, with a trio of outwardly directed fins installed just behind the point where the floor starts to taper in. The airflow structures emitted from these fins will undoubtedly interact with the AlphaTauri-esque floor scroll and floor notch just ahead of them and help to mitigate some of the losses that have been created due to fully enclosed holes being outlawed and the reduced floor width ahead of the rear tyre. It’s here where we find a solution akin to the one that Ferrari tested at the end of 2020 too, as a series of fins form an arc. This should help influence the airflow ahead of the rear tyre and reduce the impact that tyre squirt has on the diffuser. Interestingly, it has also added two offset floor strakes inboard of this where teams normally only opt for one strake, with Mercedes in the pre-hybrid era being an advocate of such designs. A new solution appears on the rear wing too, as the thickness of the upper front corner of the endplate has been altered to allow for another upwash strike. Teams had already started to look for ways to redesign this region last year, with the removal of the louvres in 2019 resulting in an increase in drag. The upwash strike is positioned in order that it can affect the tip vortex that’s generated by the top flap and endplate juncture and will undoubtedly be a design aspect that the rest of the field will take note of. While Aston Martin did show us a lot of its new car, it did keep one element secret for now – the rear brake ducts (not pictured, above). It does seem like a strange omission given it has shown us so much around the rest of the car but we must remember that this is one aspect of the 2021 cars that’s affected by the new regulations. Perhaps the team feels it has found a small pocket of performance in that regard and doesn’t want to unnecessarily hand its rivals a chance to see it ahead of testing.'''"
      ],
      "execution_count": 5,
      "outputs": []
    },
    {
      "cell_type": "code",
      "metadata": {
        "colab": {
          "base_uri": "https://localhost:8080/",
          "height": 748
        },
        "id": "IPJbVrkVhJ9y",
        "outputId": "56afc514-b946-471f-b792-43b108add247"
      },
      "source": [
        "import textwrap\n",
        "wrapper =textwrap.TextWrapper(width = 50)\n",
        "wrapper.fill(article)"
      ],
      "execution_count": 7,
      "outputs": [
        {
          "output_type": "execute_result",
          "data": {
            "application/vnd.google.colaboratory.intrinsic+json": {
              "type": "string"
            },
            "text/plain": [
              "\"This week's launch of Aston Martin’s new Formula 1\\ncar was one of the most hyped events of the pre-\\nseason so far, as fans were intrigued by how the\\nnew-look AMR21 would be painted. Unlike the car\\nlaunches that came before it, Aston Martin left\\nvery little to the imagination, releasing detailed\\nshots of the entire car. The first thing to note\\nis that the team spent both of its development\\ntokens on redesigning the chassis, in order that\\nit could unlock aerodynamic performance from the\\ncentral portion of the car. This is, in part, a\\nlegacy of the team’s approach for 2020, having\\nassimilated the overall design package of the\\nprevious year’s championship winning Mercedes\\nincluding a more conventional position for the\\nside-impact protection spars (SIPS). The low-slung\\narrangement, as introduced by Ferrari in 2017, is\\nnow considered critical from an aerodynamic\\nperspective, with the sidepod inlet positioned\\nmuch like a periscope. This is typically above the\\nfairing that surrounds the SIPS, which is used to\\ninhibit the turbulence created by the front tyre\\nand therefore also aids the transit of cool air\\nthat’s supplied to the radiators within the\\nsidepods. This image of the car depicts how the\\nbargeboards are used to filter the turbulence\\ncreated by the front tyre and convert it into\\nsomething more usable. Meanwhile, the airflow fed\\nfrom the front of the car, including the cape, is\\nforced around the underside of the sidepod whilst\\nthe fairing around the SIPS shields the airflow\\nentering the sidepod inlet. This should result in\\na much cleaner flow arriving at the radiators,\\nwith the air having not been worked too hard by\\nnumerous surfaces en route. The inlet itself is\\nextremely narrow with the team recovering some of\\nthat with the sculpting on the sides of the\\nchassis. The narrowness of the inlet also draws\\nyour attention to the substantial fin that grows\\nout of the sidepod’s shoulder and helps to divert\\nairflow down over the revamped sidepod packaging\\nbehind. This is an area where the team has clearly\\nfocused its resources, knowing that getting this\\nright will reap aerodynamic rewards for other\\nareas of the car. The sidepod design draws\\ninspiration from the new bodywork that the team\\ninstalled in Mugello last season (below) but falls\\nshort of having the full ramp to floor transition,\\ninstead favouring the dipped midriff like we’ve\\nseen adopted elsewhere. The rear portion of the\\nsidepods and the engine cover have extremely tight\\npackaging, with the AMR21 akin to the W12 with the\\nbodywork almost shrink wrapped to the componentry\\ninside. And, much like the W12, it also features a\\nbodywork blister around the inlet plenum, a\\nfeature of the power unit which is believed to be\\nbigger this season as a result of some of the\\nperformance and durability updates introduced by\\nHPP. The AMR12 also features a very small rear\\ncooling outlet that not only shows how efficient\\nthey expect the Mercedes-AMG F1 M12 E Performance\\npower unit to be, but also how much they have\\nfocused on producing a car that recovers the\\ndownforce lost by the introduction of the new\\nregulations. The extremely tight packaging creates\\na sizable undercut beneath the cooling outlet too,\\nwhich buys back some of the floor that has been\\nlost to the new regulations and drives home the\\nperformance of the coke bottle region. This is\\naided further by the token-free adoption of the\\nMercedes gearbox carrier and rear suspension from\\nlast season, an arrangement that Mercedes was\\nparticularly proud of because of the aerodynamic\\ngains that it facilitates. The new arrangement\\nsees the suspension elements lifted clear of the\\ndiffuser ceiling, which has become more prominent\\nas the teams push the boundaries of the\\nregulations, while the rear leg of the lower\\nwishbone being positioned so far back also results\\nin the ability to extract more performance from\\nthe diffuser. Aston Martin is the first team to\\nunmask all the aerodynamic tricks it will use to\\nmake up the difference on the edge of the diagonal\\nfloor cut-out. The first of these tricks shares a\\nsimilarity to the design shown by AlphaTauri, with\\na trio of outwardly directed fins installed just\\nbehind the point where the floor starts to taper\\nin. The airflow structures emitted from these fins\\nwill undoubtedly interact with the AlphaTauri-\\nesque floor scroll and floor notch just ahead of\\nthem and help to mitigate some of the losses that\\nhave been created due to fully enclosed holes\\nbeing outlawed and the reduced floor width ahead\\nof the rear tyre. It’s here where we find a\\nsolution akin to the one that Ferrari tested at\\nthe end of 2020 too, as a series of fins form an\\narc. This should help influence the airflow ahead\\nof the rear tyre and reduce the impact that tyre\\nsquirt has on the diffuser. Interestingly, it has\\nalso added two offset floor strakes inboard of\\nthis where teams normally only opt for one strake,\\nwith Mercedes in the pre-hybrid era being an\\nadvocate of such designs. A new solution appears\\non the rear wing too, as the thickness of the\\nupper front corner of the endplate has been\\naltered to allow for another upwash strike. Teams\\nhad already started to look for ways to redesign\\nthis region last year, with the removal of the\\nlouvres in 2019 resulting in an increase in drag.\\nThe upwash strike is positioned in order that it\\ncan affect the tip vortex that’s generated by the\\ntop flap and endplate juncture and will\\nundoubtedly be a design aspect that the rest of\\nthe field will take note of. While Aston Martin\\ndid show us a lot of its new car, it did keep one\\nelement secret for now – the rear brake ducts (not\\npictured, above). It does seem like a strange\\nomission given it has shown us so much around the\\nrest of the car but we must remember that this is\\none aspect of the 2021 cars that’s affected by the\\nnew regulations. Perhaps the team feels it has\\nfound a small pocket of performance in that regard\\nand doesn’t want to unnecessarily hand its rivals\\na chance to see it ahead of testing.\""
            ]
          },
          "metadata": {
            "tags": []
          },
          "execution_count": 7
        }
      ]
    },
    {
      "cell_type": "code",
      "metadata": {
        "id": "5bBNB0kRhpj7"
      },
      "source": [
        "sentences = nltk.sent_tokenize(article)\n",
        "sentences = [each_sentence.strip() for each_sentence in sentences]"
      ],
      "execution_count": 12,
      "outputs": []
    },
    {
      "cell_type": "code",
      "metadata": {
        "id": "YHzWAzMfh-Io"
      },
      "source": [
        "data = pd.DataFrame(sentences)\n",
        "data.columns = ['sentences']"
      ],
      "execution_count": 17,
      "outputs": []
    },
    {
      "cell_type": "code",
      "metadata": {
        "id": "zkFJ5r2xiZBA"
      },
      "source": [
        "def extract_embeddings(sent):\n",
        "    embedding = semantics_extractor.encode([sent])\n",
        "    return embedding[0]"
      ],
      "execution_count": 20,
      "outputs": []
    },
    {
      "cell_type": "code",
      "metadata": {
        "id": "tWKbCnxxi1S_"
      },
      "source": [
        "data['embeddings'] = data['sentences'].apply(extract_embeddings) "
      ],
      "execution_count": 21,
      "outputs": []
    },
    {
      "cell_type": "code",
      "metadata": {
        "id": "cwJUH00Ki-zW"
      },
      "source": [
        "#now we can cluster our dense embeddings using KMeans clusterer from nltk\n",
        "N_Clusters = 10 # will also be number of sentences user expect in a summary\n",
        "iterations  = 25\n",
        "\n",
        "X = np.array(data['embeddings'].tolist())\n",
        "clusterer = KMeansClusterer(N_Clusters ,distance= nltk.cluster.util.cosine_distance , \n",
        "                            repeats = iterations ,avoid_empty_clusters = True)\n",
        "\n"
      ],
      "execution_count": 22,
      "outputs": []
    },
    {
      "cell_type": "code",
      "metadata": {
        "id": "6tqzwxKlkTlN"
      },
      "source": [
        "assigned_clusters = clusterer.cluster( X ,assign_clusters=True)"
      ],
      "execution_count": 23,
      "outputs": []
    },
    {
      "cell_type": "code",
      "metadata": {
        "id": "pacABZihk_yn"
      },
      "source": [
        "#we compute the distance between the sentence vector and the centroid / mean vector.\n",
        "# To achieve this, we need to assign the centroid to each row based on the cluster number.\n",
        "\n",
        "data[\"cluster\"] = pd.Series(assigned_clusters ,index = data.index)\n",
        "\n",
        "data[\"mean\"] = data['cluster'].apply(lambda x : clusterer.means()[x])"
      ],
      "execution_count": 24,
      "outputs": []
    },
    {
      "cell_type": "code",
      "metadata": {
        "id": "lvKg2TTslnTQ"
      },
      "source": [
        "from scipy.spatial import  distance_matrix \n",
        "def distance_from_mean(row):\n",
        "    return distance_matrix([row[\"embeddings\"]] , [row[\"mean\"]] )[0][0]\n",
        " \n",
        "data[\"distance_from_mean\"] = data.apply(distance_from_mean , axis  =1)\n"
      ],
      "execution_count": 27,
      "outputs": []
    },
    {
      "cell_type": "code",
      "metadata": {
        "id": "vlGmTanll6U_"
      },
      "source": [
        "#now we can Group sentences based on the cluster column.first we\n",
        "#Sort the group in ascending order based on the distance_from_mean column and\n",
        "# select the first row (sentence having least distance from the mean)\n",
        "#Sort the sentences based on their sequence in the original text\n",
        "\n",
        "Summary = \" Summary:\\n\".join(data.sort_values('distance_from_mean' , ascending = True).groupby(\"cluster\").head(1).sort_index()['sentences'].tolist())"
      ],
      "execution_count": 29,
      "outputs": []
    },
    {
      "cell_type": "code",
      "metadata": {
        "colab": {
          "base_uri": "https://localhost:8080/"
        },
        "id": "AMQdKtxQn_r6",
        "outputId": "7fb7a88e-150d-40ae-dc16-fa504a5a7728"
      },
      "source": [
        "print(wrapper.fill(Summary))"
      ],
      "execution_count": 31,
      "outputs": [
        {
          "output_type": "stream",
          "text": [
            "This week's launch of Aston Martin’s new Formula 1\n",
            "car was one of the most hyped events of the pre-\n",
            "season so far, as fans were intrigued by how the\n",
            "new-look AMR21 would be painted. Summary: The\n",
            "first thing to note is that the team spent both of\n",
            "its development tokens on redesigning the chassis,\n",
            "in order that it could unlock aerodynamic\n",
            "performance from the central portion of the car.\n",
            "Summary: The low-slung arrangement, as introduced\n",
            "by Ferrari in 2017, is now considered critical\n",
            "from an aerodynamic perspective, with the sidepod\n",
            "inlet positioned much like a periscope. Summary:\n",
            "The AMR12 also features a very small rear cooling\n",
            "outlet that not only shows how efficient they\n",
            "expect the Mercedes-AMG F1 M12 E Performance power\n",
            "unit to be, but also how much they have focused on\n",
            "producing a car that recovers the downforce lost\n",
            "by the introduction of the new regulations.\n",
            "Summary: This is aided further by the token-free\n",
            "adoption of the Mercedes gearbox carrier and rear\n",
            "suspension from last season, an arrangement that\n",
            "Mercedes was particularly proud of because of the\n",
            "aerodynamic gains that it facilitates. Summary:\n",
            "The airflow structures emitted from these fins\n",
            "will undoubtedly interact with the AlphaTauri-\n",
            "esque floor scroll and floor notch just ahead of\n",
            "them and help to mitigate some of the losses that\n",
            "have been created due to fully enclosed holes\n",
            "being outlawed and the reduced floor width ahead\n",
            "of the rear tyre. Summary: Interestingly, it has\n",
            "also added two offset floor strakes inboard of\n",
            "this where teams normally only opt for one strake,\n",
            "with Mercedes in the pre-hybrid era being an\n",
            "advocate of such designs. Summary: The upwash\n",
            "strike is positioned in order that it can affect\n",
            "the tip vortex that’s generated by the top flap\n",
            "and endplate juncture and will undoubtedly be a\n",
            "design aspect that the rest of the field will take\n",
            "note of. Summary: While Aston Martin did show us a\n",
            "lot of its new car, it did keep one element secret\n",
            "for now – the rear brake ducts (not pictured,\n",
            "above). Summary: Perhaps the team feels it has\n",
            "found a small pocket of performance in that regard\n",
            "and doesn’t want to unnecessarily hand its rivals\n",
            "a chance to see it ahead of testing.\n"
          ],
          "name": "stdout"
        }
      ]
    },
    {
      "cell_type": "code",
      "metadata": {
        "id": "bqlAkRi8oIr2"
      },
      "source": [
        ""
      ],
      "execution_count": null,
      "outputs": []
    }
  ]
}