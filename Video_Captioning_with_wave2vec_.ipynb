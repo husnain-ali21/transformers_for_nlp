{
  "nbformat": 4,
  "nbformat_minor": 0,
  "metadata": {
    "colab": {
      "name": "Video Captioning with wave2vec .ipynb",
      "provenance": [],
      "authorship_tag": "ABX9TyOtYmQQ2g6rYsdxC/rbkGNR",
      "include_colab_link": true
    },
    "kernelspec": {
      "name": "python3",
      "display_name": "Python 3"
    },
    "language_info": {
      "name": "python"
    },
    "widgets": {
      "application/vnd.jupyter.widget-state+json": {
        "22d7192f52ca4b5db794806bc327abb6": {
          "model_module": "@jupyter-widgets/controls",
          "model_name": "HBoxModel",
          "state": {
            "_view_name": "HBoxView",
            "_dom_classes": [],
            "_model_name": "HBoxModel",
            "_view_module": "@jupyter-widgets/controls",
            "_model_module_version": "1.5.0",
            "_view_count": null,
            "_view_module_version": "1.5.0",
            "box_style": "",
            "layout": "IPY_MODEL_297324c7fa8d4602ac0b70a64b909265",
            "_model_module": "@jupyter-widgets/controls",
            "children": [
              "IPY_MODEL_1ed7da2ac1694d94b7af8fc728abf8ab",
              "IPY_MODEL_48f5e400afe24693bdded4c02f9953ea"
            ]
          }
        },
        "297324c7fa8d4602ac0b70a64b909265": {
          "model_module": "@jupyter-widgets/base",
          "model_name": "LayoutModel",
          "state": {
            "_view_name": "LayoutView",
            "grid_template_rows": null,
            "right": null,
            "justify_content": null,
            "_view_module": "@jupyter-widgets/base",
            "overflow": null,
            "_model_module_version": "1.2.0",
            "_view_count": null,
            "flex_flow": null,
            "width": null,
            "min_width": null,
            "border": null,
            "align_items": null,
            "bottom": null,
            "_model_module": "@jupyter-widgets/base",
            "top": null,
            "grid_column": null,
            "overflow_y": null,
            "overflow_x": null,
            "grid_auto_flow": null,
            "grid_area": null,
            "grid_template_columns": null,
            "flex": null,
            "_model_name": "LayoutModel",
            "justify_items": null,
            "grid_row": null,
            "max_height": null,
            "align_content": null,
            "visibility": null,
            "align_self": null,
            "height": null,
            "min_height": null,
            "padding": null,
            "grid_auto_rows": null,
            "grid_gap": null,
            "max_width": null,
            "order": null,
            "_view_module_version": "1.2.0",
            "grid_template_areas": null,
            "object_position": null,
            "object_fit": null,
            "grid_auto_columns": null,
            "margin": null,
            "display": null,
            "left": null
          }
        },
        "1ed7da2ac1694d94b7af8fc728abf8ab": {
          "model_module": "@jupyter-widgets/controls",
          "model_name": "FloatProgressModel",
          "state": {
            "_view_name": "ProgressView",
            "style": "IPY_MODEL_2ce6a91f3f3a453a8c21b2b375ba5b17",
            "_dom_classes": [],
            "description": "Downloading: 100%",
            "_model_name": "FloatProgressModel",
            "bar_style": "success",
            "max": 291,
            "_view_module": "@jupyter-widgets/controls",
            "_model_module_version": "1.5.0",
            "value": 291,
            "_view_count": null,
            "_view_module_version": "1.5.0",
            "orientation": "horizontal",
            "min": 0,
            "description_tooltip": null,
            "_model_module": "@jupyter-widgets/controls",
            "layout": "IPY_MODEL_ac61bc0a600f418a89deaef736dd186e"
          }
        },
        "48f5e400afe24693bdded4c02f9953ea": {
          "model_module": "@jupyter-widgets/controls",
          "model_name": "HTMLModel",
          "state": {
            "_view_name": "HTMLView",
            "style": "IPY_MODEL_16f62b7eee2c4708b4ecd6c651b36a8e",
            "_dom_classes": [],
            "description": "",
            "_model_name": "HTMLModel",
            "placeholder": "​",
            "_view_module": "@jupyter-widgets/controls",
            "_model_module_version": "1.5.0",
            "value": " 291/291 [00:13&lt;00:00, 21.2B/s]",
            "_view_count": null,
            "_view_module_version": "1.5.0",
            "description_tooltip": null,
            "_model_module": "@jupyter-widgets/controls",
            "layout": "IPY_MODEL_c7b0e3de7cd54c8f9ae759ac409ba9ea"
          }
        },
        "2ce6a91f3f3a453a8c21b2b375ba5b17": {
          "model_module": "@jupyter-widgets/controls",
          "model_name": "ProgressStyleModel",
          "state": {
            "_view_name": "StyleView",
            "_model_name": "ProgressStyleModel",
            "description_width": "initial",
            "_view_module": "@jupyter-widgets/base",
            "_model_module_version": "1.5.0",
            "_view_count": null,
            "_view_module_version": "1.2.0",
            "bar_color": null,
            "_model_module": "@jupyter-widgets/controls"
          }
        },
        "ac61bc0a600f418a89deaef736dd186e": {
          "model_module": "@jupyter-widgets/base",
          "model_name": "LayoutModel",
          "state": {
            "_view_name": "LayoutView",
            "grid_template_rows": null,
            "right": null,
            "justify_content": null,
            "_view_module": "@jupyter-widgets/base",
            "overflow": null,
            "_model_module_version": "1.2.0",
            "_view_count": null,
            "flex_flow": null,
            "width": null,
            "min_width": null,
            "border": null,
            "align_items": null,
            "bottom": null,
            "_model_module": "@jupyter-widgets/base",
            "top": null,
            "grid_column": null,
            "overflow_y": null,
            "overflow_x": null,
            "grid_auto_flow": null,
            "grid_area": null,
            "grid_template_columns": null,
            "flex": null,
            "_model_name": "LayoutModel",
            "justify_items": null,
            "grid_row": null,
            "max_height": null,
            "align_content": null,
            "visibility": null,
            "align_self": null,
            "height": null,
            "min_height": null,
            "padding": null,
            "grid_auto_rows": null,
            "grid_gap": null,
            "max_width": null,
            "order": null,
            "_view_module_version": "1.2.0",
            "grid_template_areas": null,
            "object_position": null,
            "object_fit": null,
            "grid_auto_columns": null,
            "margin": null,
            "display": null,
            "left": null
          }
        },
        "16f62b7eee2c4708b4ecd6c651b36a8e": {
          "model_module": "@jupyter-widgets/controls",
          "model_name": "DescriptionStyleModel",
          "state": {
            "_view_name": "StyleView",
            "_model_name": "DescriptionStyleModel",
            "description_width": "",
            "_view_module": "@jupyter-widgets/base",
            "_model_module_version": "1.5.0",
            "_view_count": null,
            "_view_module_version": "1.2.0",
            "_model_module": "@jupyter-widgets/controls"
          }
        },
        "c7b0e3de7cd54c8f9ae759ac409ba9ea": {
          "model_module": "@jupyter-widgets/base",
          "model_name": "LayoutModel",
          "state": {
            "_view_name": "LayoutView",
            "grid_template_rows": null,
            "right": null,
            "justify_content": null,
            "_view_module": "@jupyter-widgets/base",
            "overflow": null,
            "_model_module_version": "1.2.0",
            "_view_count": null,
            "flex_flow": null,
            "width": null,
            "min_width": null,
            "border": null,
            "align_items": null,
            "bottom": null,
            "_model_module": "@jupyter-widgets/base",
            "top": null,
            "grid_column": null,
            "overflow_y": null,
            "overflow_x": null,
            "grid_auto_flow": null,
            "grid_area": null,
            "grid_template_columns": null,
            "flex": null,
            "_model_name": "LayoutModel",
            "justify_items": null,
            "grid_row": null,
            "max_height": null,
            "align_content": null,
            "visibility": null,
            "align_self": null,
            "height": null,
            "min_height": null,
            "padding": null,
            "grid_auto_rows": null,
            "grid_gap": null,
            "max_width": null,
            "order": null,
            "_view_module_version": "1.2.0",
            "grid_template_areas": null,
            "object_position": null,
            "object_fit": null,
            "grid_auto_columns": null,
            "margin": null,
            "display": null,
            "left": null
          }
        },
        "8e520f56f6d14371ba8850aa02567b54": {
          "model_module": "@jupyter-widgets/controls",
          "model_name": "HBoxModel",
          "state": {
            "_view_name": "HBoxView",
            "_dom_classes": [],
            "_model_name": "HBoxModel",
            "_view_module": "@jupyter-widgets/controls",
            "_model_module_version": "1.5.0",
            "_view_count": null,
            "_view_module_version": "1.5.0",
            "box_style": "",
            "layout": "IPY_MODEL_2d00a0e432fa4c09ac2439e07ed2a232",
            "_model_module": "@jupyter-widgets/controls",
            "children": [
              "IPY_MODEL_a9c24ddfd535466a9a9797e0cc0c8602",
              "IPY_MODEL_e4a6f4d6ece841e4829682a7a347235b"
            ]
          }
        },
        "2d00a0e432fa4c09ac2439e07ed2a232": {
          "model_module": "@jupyter-widgets/base",
          "model_name": "LayoutModel",
          "state": {
            "_view_name": "LayoutView",
            "grid_template_rows": null,
            "right": null,
            "justify_content": null,
            "_view_module": "@jupyter-widgets/base",
            "overflow": null,
            "_model_module_version": "1.2.0",
            "_view_count": null,
            "flex_flow": null,
            "width": null,
            "min_width": null,
            "border": null,
            "align_items": null,
            "bottom": null,
            "_model_module": "@jupyter-widgets/base",
            "top": null,
            "grid_column": null,
            "overflow_y": null,
            "overflow_x": null,
            "grid_auto_flow": null,
            "grid_area": null,
            "grid_template_columns": null,
            "flex": null,
            "_model_name": "LayoutModel",
            "justify_items": null,
            "grid_row": null,
            "max_height": null,
            "align_content": null,
            "visibility": null,
            "align_self": null,
            "height": null,
            "min_height": null,
            "padding": null,
            "grid_auto_rows": null,
            "grid_gap": null,
            "max_width": null,
            "order": null,
            "_view_module_version": "1.2.0",
            "grid_template_areas": null,
            "object_position": null,
            "object_fit": null,
            "grid_auto_columns": null,
            "margin": null,
            "display": null,
            "left": null
          }
        },
        "a9c24ddfd535466a9a9797e0cc0c8602": {
          "model_module": "@jupyter-widgets/controls",
          "model_name": "FloatProgressModel",
          "state": {
            "_view_name": "ProgressView",
            "style": "IPY_MODEL_95e17de3443442b3b9231e13a162456b",
            "_dom_classes": [],
            "description": "Downloading: 100%",
            "_model_name": "FloatProgressModel",
            "bar_style": "success",
            "max": 163,
            "_view_module": "@jupyter-widgets/controls",
            "_model_module_version": "1.5.0",
            "value": 163,
            "_view_count": null,
            "_view_module_version": "1.5.0",
            "orientation": "horizontal",
            "min": 0,
            "description_tooltip": null,
            "_model_module": "@jupyter-widgets/controls",
            "layout": "IPY_MODEL_22acbc352c084d808e9975be3a5b75cb"
          }
        },
        "e4a6f4d6ece841e4829682a7a347235b": {
          "model_module": "@jupyter-widgets/controls",
          "model_name": "HTMLModel",
          "state": {
            "_view_name": "HTMLView",
            "style": "IPY_MODEL_52ebaa718501400f869824d13a2c5d84",
            "_dom_classes": [],
            "description": "",
            "_model_name": "HTMLModel",
            "placeholder": "​",
            "_view_module": "@jupyter-widgets/controls",
            "_model_module_version": "1.5.0",
            "value": " 163/163 [00:00&lt;00:00, 181B/s]",
            "_view_count": null,
            "_view_module_version": "1.5.0",
            "description_tooltip": null,
            "_model_module": "@jupyter-widgets/controls",
            "layout": "IPY_MODEL_f94af6fd485b4624a6de562431d50e8f"
          }
        },
        "95e17de3443442b3b9231e13a162456b": {
          "model_module": "@jupyter-widgets/controls",
          "model_name": "ProgressStyleModel",
          "state": {
            "_view_name": "StyleView",
            "_model_name": "ProgressStyleModel",
            "description_width": "initial",
            "_view_module": "@jupyter-widgets/base",
            "_model_module_version": "1.5.0",
            "_view_count": null,
            "_view_module_version": "1.2.0",
            "bar_color": null,
            "_model_module": "@jupyter-widgets/controls"
          }
        },
        "22acbc352c084d808e9975be3a5b75cb": {
          "model_module": "@jupyter-widgets/base",
          "model_name": "LayoutModel",
          "state": {
            "_view_name": "LayoutView",
            "grid_template_rows": null,
            "right": null,
            "justify_content": null,
            "_view_module": "@jupyter-widgets/base",
            "overflow": null,
            "_model_module_version": "1.2.0",
            "_view_count": null,
            "flex_flow": null,
            "width": null,
            "min_width": null,
            "border": null,
            "align_items": null,
            "bottom": null,
            "_model_module": "@jupyter-widgets/base",
            "top": null,
            "grid_column": null,
            "overflow_y": null,
            "overflow_x": null,
            "grid_auto_flow": null,
            "grid_area": null,
            "grid_template_columns": null,
            "flex": null,
            "_model_name": "LayoutModel",
            "justify_items": null,
            "grid_row": null,
            "max_height": null,
            "align_content": null,
            "visibility": null,
            "align_self": null,
            "height": null,
            "min_height": null,
            "padding": null,
            "grid_auto_rows": null,
            "grid_gap": null,
            "max_width": null,
            "order": null,
            "_view_module_version": "1.2.0",
            "grid_template_areas": null,
            "object_position": null,
            "object_fit": null,
            "grid_auto_columns": null,
            "margin": null,
            "display": null,
            "left": null
          }
        },
        "52ebaa718501400f869824d13a2c5d84": {
          "model_module": "@jupyter-widgets/controls",
          "model_name": "DescriptionStyleModel",
          "state": {
            "_view_name": "StyleView",
            "_model_name": "DescriptionStyleModel",
            "description_width": "",
            "_view_module": "@jupyter-widgets/base",
            "_model_module_version": "1.5.0",
            "_view_count": null,
            "_view_module_version": "1.2.0",
            "_model_module": "@jupyter-widgets/controls"
          }
        },
        "f94af6fd485b4624a6de562431d50e8f": {
          "model_module": "@jupyter-widgets/base",
          "model_name": "LayoutModel",
          "state": {
            "_view_name": "LayoutView",
            "grid_template_rows": null,
            "right": null,
            "justify_content": null,
            "_view_module": "@jupyter-widgets/base",
            "overflow": null,
            "_model_module_version": "1.2.0",
            "_view_count": null,
            "flex_flow": null,
            "width": null,
            "min_width": null,
            "border": null,
            "align_items": null,
            "bottom": null,
            "_model_module": "@jupyter-widgets/base",
            "top": null,
            "grid_column": null,
            "overflow_y": null,
            "overflow_x": null,
            "grid_auto_flow": null,
            "grid_area": null,
            "grid_template_columns": null,
            "flex": null,
            "_model_name": "LayoutModel",
            "justify_items": null,
            "grid_row": null,
            "max_height": null,
            "align_content": null,
            "visibility": null,
            "align_self": null,
            "height": null,
            "min_height": null,
            "padding": null,
            "grid_auto_rows": null,
            "grid_gap": null,
            "max_width": null,
            "order": null,
            "_view_module_version": "1.2.0",
            "grid_template_areas": null,
            "object_position": null,
            "object_fit": null,
            "grid_auto_columns": null,
            "margin": null,
            "display": null,
            "left": null
          }
        },
        "a6d0479bc2d941f792a7b278702fc362": {
          "model_module": "@jupyter-widgets/controls",
          "model_name": "HBoxModel",
          "state": {
            "_view_name": "HBoxView",
            "_dom_classes": [],
            "_model_name": "HBoxModel",
            "_view_module": "@jupyter-widgets/controls",
            "_model_module_version": "1.5.0",
            "_view_count": null,
            "_view_module_version": "1.5.0",
            "box_style": "",
            "layout": "IPY_MODEL_7078cd908744450ea569221560120309",
            "_model_module": "@jupyter-widgets/controls",
            "children": [
              "IPY_MODEL_4bc5a6ee423a4d8a9c6bdfbd62d3a817",
              "IPY_MODEL_748806f1958e4763b226843d9dc442d0"
            ]
          }
        },
        "7078cd908744450ea569221560120309": {
          "model_module": "@jupyter-widgets/base",
          "model_name": "LayoutModel",
          "state": {
            "_view_name": "LayoutView",
            "grid_template_rows": null,
            "right": null,
            "justify_content": null,
            "_view_module": "@jupyter-widgets/base",
            "overflow": null,
            "_model_module_version": "1.2.0",
            "_view_count": null,
            "flex_flow": null,
            "width": null,
            "min_width": null,
            "border": null,
            "align_items": null,
            "bottom": null,
            "_model_module": "@jupyter-widgets/base",
            "top": null,
            "grid_column": null,
            "overflow_y": null,
            "overflow_x": null,
            "grid_auto_flow": null,
            "grid_area": null,
            "grid_template_columns": null,
            "flex": null,
            "_model_name": "LayoutModel",
            "justify_items": null,
            "grid_row": null,
            "max_height": null,
            "align_content": null,
            "visibility": null,
            "align_self": null,
            "height": null,
            "min_height": null,
            "padding": null,
            "grid_auto_rows": null,
            "grid_gap": null,
            "max_width": null,
            "order": null,
            "_view_module_version": "1.2.0",
            "grid_template_areas": null,
            "object_position": null,
            "object_fit": null,
            "grid_auto_columns": null,
            "margin": null,
            "display": null,
            "left": null
          }
        },
        "4bc5a6ee423a4d8a9c6bdfbd62d3a817": {
          "model_module": "@jupyter-widgets/controls",
          "model_name": "FloatProgressModel",
          "state": {
            "_view_name": "ProgressView",
            "style": "IPY_MODEL_64a9ea8c2fdc421bb61939fd62e6825c",
            "_dom_classes": [],
            "description": "Downloading: 100%",
            "_model_name": "FloatProgressModel",
            "bar_style": "success",
            "max": 85,
            "_view_module": "@jupyter-widgets/controls",
            "_model_module_version": "1.5.0",
            "value": 85,
            "_view_count": null,
            "_view_module_version": "1.5.0",
            "orientation": "horizontal",
            "min": 0,
            "description_tooltip": null,
            "_model_module": "@jupyter-widgets/controls",
            "layout": "IPY_MODEL_7a7067f3dd0e484097ca3bd0026dea04"
          }
        },
        "748806f1958e4763b226843d9dc442d0": {
          "model_module": "@jupyter-widgets/controls",
          "model_name": "HTMLModel",
          "state": {
            "_view_name": "HTMLView",
            "style": "IPY_MODEL_9201fa44a16f4d25837a6d4736c33f6a",
            "_dom_classes": [],
            "description": "",
            "_model_name": "HTMLModel",
            "placeholder": "​",
            "_view_module": "@jupyter-widgets/controls",
            "_model_module_version": "1.5.0",
            "value": " 85.0/85.0 [00:00&lt;00:00, 330B/s]",
            "_view_count": null,
            "_view_module_version": "1.5.0",
            "description_tooltip": null,
            "_model_module": "@jupyter-widgets/controls",
            "layout": "IPY_MODEL_d06c5e61aac54f1b9d8c3f6ab9f9a1f9"
          }
        },
        "64a9ea8c2fdc421bb61939fd62e6825c": {
          "model_module": "@jupyter-widgets/controls",
          "model_name": "ProgressStyleModel",
          "state": {
            "_view_name": "StyleView",
            "_model_name": "ProgressStyleModel",
            "description_width": "initial",
            "_view_module": "@jupyter-widgets/base",
            "_model_module_version": "1.5.0",
            "_view_count": null,
            "_view_module_version": "1.2.0",
            "bar_color": null,
            "_model_module": "@jupyter-widgets/controls"
          }
        },
        "7a7067f3dd0e484097ca3bd0026dea04": {
          "model_module": "@jupyter-widgets/base",
          "model_name": "LayoutModel",
          "state": {
            "_view_name": "LayoutView",
            "grid_template_rows": null,
            "right": null,
            "justify_content": null,
            "_view_module": "@jupyter-widgets/base",
            "overflow": null,
            "_model_module_version": "1.2.0",
            "_view_count": null,
            "flex_flow": null,
            "width": null,
            "min_width": null,
            "border": null,
            "align_items": null,
            "bottom": null,
            "_model_module": "@jupyter-widgets/base",
            "top": null,
            "grid_column": null,
            "overflow_y": null,
            "overflow_x": null,
            "grid_auto_flow": null,
            "grid_area": null,
            "grid_template_columns": null,
            "flex": null,
            "_model_name": "LayoutModel",
            "justify_items": null,
            "grid_row": null,
            "max_height": null,
            "align_content": null,
            "visibility": null,
            "align_self": null,
            "height": null,
            "min_height": null,
            "padding": null,
            "grid_auto_rows": null,
            "grid_gap": null,
            "max_width": null,
            "order": null,
            "_view_module_version": "1.2.0",
            "grid_template_areas": null,
            "object_position": null,
            "object_fit": null,
            "grid_auto_columns": null,
            "margin": null,
            "display": null,
            "left": null
          }
        },
        "9201fa44a16f4d25837a6d4736c33f6a": {
          "model_module": "@jupyter-widgets/controls",
          "model_name": "DescriptionStyleModel",
          "state": {
            "_view_name": "StyleView",
            "_model_name": "DescriptionStyleModel",
            "description_width": "",
            "_view_module": "@jupyter-widgets/base",
            "_model_module_version": "1.5.0",
            "_view_count": null,
            "_view_module_version": "1.2.0",
            "_model_module": "@jupyter-widgets/controls"
          }
        },
        "d06c5e61aac54f1b9d8c3f6ab9f9a1f9": {
          "model_module": "@jupyter-widgets/base",
          "model_name": "LayoutModel",
          "state": {
            "_view_name": "LayoutView",
            "grid_template_rows": null,
            "right": null,
            "justify_content": null,
            "_view_module": "@jupyter-widgets/base",
            "overflow": null,
            "_model_module_version": "1.2.0",
            "_view_count": null,
            "flex_flow": null,
            "width": null,
            "min_width": null,
            "border": null,
            "align_items": null,
            "bottom": null,
            "_model_module": "@jupyter-widgets/base",
            "top": null,
            "grid_column": null,
            "overflow_y": null,
            "overflow_x": null,
            "grid_auto_flow": null,
            "grid_area": null,
            "grid_template_columns": null,
            "flex": null,
            "_model_name": "LayoutModel",
            "justify_items": null,
            "grid_row": null,
            "max_height": null,
            "align_content": null,
            "visibility": null,
            "align_self": null,
            "height": null,
            "min_height": null,
            "padding": null,
            "grid_auto_rows": null,
            "grid_gap": null,
            "max_width": null,
            "order": null,
            "_view_module_version": "1.2.0",
            "grid_template_areas": null,
            "object_position": null,
            "object_fit": null,
            "grid_auto_columns": null,
            "margin": null,
            "display": null,
            "left": null
          }
        },
        "3e38c9d76e02466c92f61344a1652c93": {
          "model_module": "@jupyter-widgets/controls",
          "model_name": "HBoxModel",
          "state": {
            "_view_name": "HBoxView",
            "_dom_classes": [],
            "_model_name": "HBoxModel",
            "_view_module": "@jupyter-widgets/controls",
            "_model_module_version": "1.5.0",
            "_view_count": null,
            "_view_module_version": "1.5.0",
            "box_style": "",
            "layout": "IPY_MODEL_681130a35f3f48328fa6ad79b3b9ad9f",
            "_model_module": "@jupyter-widgets/controls",
            "children": [
              "IPY_MODEL_1e583f44664743bd9e3da7379867d819",
              "IPY_MODEL_e271d33e41dc401bb37dd97155bf5211"
            ]
          }
        },
        "681130a35f3f48328fa6ad79b3b9ad9f": {
          "model_module": "@jupyter-widgets/base",
          "model_name": "LayoutModel",
          "state": {
            "_view_name": "LayoutView",
            "grid_template_rows": null,
            "right": null,
            "justify_content": null,
            "_view_module": "@jupyter-widgets/base",
            "overflow": null,
            "_model_module_version": "1.2.0",
            "_view_count": null,
            "flex_flow": null,
            "width": null,
            "min_width": null,
            "border": null,
            "align_items": null,
            "bottom": null,
            "_model_module": "@jupyter-widgets/base",
            "top": null,
            "grid_column": null,
            "overflow_y": null,
            "overflow_x": null,
            "grid_auto_flow": null,
            "grid_area": null,
            "grid_template_columns": null,
            "flex": null,
            "_model_name": "LayoutModel",
            "justify_items": null,
            "grid_row": null,
            "max_height": null,
            "align_content": null,
            "visibility": null,
            "align_self": null,
            "height": null,
            "min_height": null,
            "padding": null,
            "grid_auto_rows": null,
            "grid_gap": null,
            "max_width": null,
            "order": null,
            "_view_module_version": "1.2.0",
            "grid_template_areas": null,
            "object_position": null,
            "object_fit": null,
            "grid_auto_columns": null,
            "margin": null,
            "display": null,
            "left": null
          }
        },
        "1e583f44664743bd9e3da7379867d819": {
          "model_module": "@jupyter-widgets/controls",
          "model_name": "FloatProgressModel",
          "state": {
            "_view_name": "ProgressView",
            "style": "IPY_MODEL_fde0067e6b064b4aa5c45ed119f45966",
            "_dom_classes": [],
            "description": "Downloading: 100%",
            "_model_name": "FloatProgressModel",
            "bar_style": "success",
            "max": 843,
            "_view_module": "@jupyter-widgets/controls",
            "_model_module_version": "1.5.0",
            "value": 843,
            "_view_count": null,
            "_view_module_version": "1.5.0",
            "orientation": "horizontal",
            "min": 0,
            "description_tooltip": null,
            "_model_module": "@jupyter-widgets/controls",
            "layout": "IPY_MODEL_c31eb13a7f094601b4d6717ebabca466"
          }
        },
        "e271d33e41dc401bb37dd97155bf5211": {
          "model_module": "@jupyter-widgets/controls",
          "model_name": "HTMLModel",
          "state": {
            "_view_name": "HTMLView",
            "style": "IPY_MODEL_e0548d36f1054f28be7df25000b47307",
            "_dom_classes": [],
            "description": "",
            "_model_name": "HTMLModel",
            "placeholder": "​",
            "_view_module": "@jupyter-widgets/controls",
            "_model_module_version": "1.5.0",
            "value": " 843/843 [00:00&lt;00:00, 1.19kB/s]",
            "_view_count": null,
            "_view_module_version": "1.5.0",
            "description_tooltip": null,
            "_model_module": "@jupyter-widgets/controls",
            "layout": "IPY_MODEL_9d0f3b66aeff4433b98d405c44f0f761"
          }
        },
        "fde0067e6b064b4aa5c45ed119f45966": {
          "model_module": "@jupyter-widgets/controls",
          "model_name": "ProgressStyleModel",
          "state": {
            "_view_name": "StyleView",
            "_model_name": "ProgressStyleModel",
            "description_width": "initial",
            "_view_module": "@jupyter-widgets/base",
            "_model_module_version": "1.5.0",
            "_view_count": null,
            "_view_module_version": "1.2.0",
            "bar_color": null,
            "_model_module": "@jupyter-widgets/controls"
          }
        },
        "c31eb13a7f094601b4d6717ebabca466": {
          "model_module": "@jupyter-widgets/base",
          "model_name": "LayoutModel",
          "state": {
            "_view_name": "LayoutView",
            "grid_template_rows": null,
            "right": null,
            "justify_content": null,
            "_view_module": "@jupyter-widgets/base",
            "overflow": null,
            "_model_module_version": "1.2.0",
            "_view_count": null,
            "flex_flow": null,
            "width": null,
            "min_width": null,
            "border": null,
            "align_items": null,
            "bottom": null,
            "_model_module": "@jupyter-widgets/base",
            "top": null,
            "grid_column": null,
            "overflow_y": null,
            "overflow_x": null,
            "grid_auto_flow": null,
            "grid_area": null,
            "grid_template_columns": null,
            "flex": null,
            "_model_name": "LayoutModel",
            "justify_items": null,
            "grid_row": null,
            "max_height": null,
            "align_content": null,
            "visibility": null,
            "align_self": null,
            "height": null,
            "min_height": null,
            "padding": null,
            "grid_auto_rows": null,
            "grid_gap": null,
            "max_width": null,
            "order": null,
            "_view_module_version": "1.2.0",
            "grid_template_areas": null,
            "object_position": null,
            "object_fit": null,
            "grid_auto_columns": null,
            "margin": null,
            "display": null,
            "left": null
          }
        },
        "e0548d36f1054f28be7df25000b47307": {
          "model_module": "@jupyter-widgets/controls",
          "model_name": "DescriptionStyleModel",
          "state": {
            "_view_name": "StyleView",
            "_model_name": "DescriptionStyleModel",
            "description_width": "",
            "_view_module": "@jupyter-widgets/base",
            "_model_module_version": "1.5.0",
            "_view_count": null,
            "_view_module_version": "1.2.0",
            "_model_module": "@jupyter-widgets/controls"
          }
        },
        "9d0f3b66aeff4433b98d405c44f0f761": {
          "model_module": "@jupyter-widgets/base",
          "model_name": "LayoutModel",
          "state": {
            "_view_name": "LayoutView",
            "grid_template_rows": null,
            "right": null,
            "justify_content": null,
            "_view_module": "@jupyter-widgets/base",
            "overflow": null,
            "_model_module_version": "1.2.0",
            "_view_count": null,
            "flex_flow": null,
            "width": null,
            "min_width": null,
            "border": null,
            "align_items": null,
            "bottom": null,
            "_model_module": "@jupyter-widgets/base",
            "top": null,
            "grid_column": null,
            "overflow_y": null,
            "overflow_x": null,
            "grid_auto_flow": null,
            "grid_area": null,
            "grid_template_columns": null,
            "flex": null,
            "_model_name": "LayoutModel",
            "justify_items": null,
            "grid_row": null,
            "max_height": null,
            "align_content": null,
            "visibility": null,
            "align_self": null,
            "height": null,
            "min_height": null,
            "padding": null,
            "grid_auto_rows": null,
            "grid_gap": null,
            "max_width": null,
            "order": null,
            "_view_module_version": "1.2.0",
            "grid_template_areas": null,
            "object_position": null,
            "object_fit": null,
            "grid_auto_columns": null,
            "margin": null,
            "display": null,
            "left": null
          }
        },
        "80ae899bc35f4b5ab911db1690bac4cb": {
          "model_module": "@jupyter-widgets/controls",
          "model_name": "HBoxModel",
          "state": {
            "_view_name": "HBoxView",
            "_dom_classes": [],
            "_model_name": "HBoxModel",
            "_view_module": "@jupyter-widgets/controls",
            "_model_module_version": "1.5.0",
            "_view_count": null,
            "_view_module_version": "1.5.0",
            "box_style": "",
            "layout": "IPY_MODEL_482735fcc2cb482ebf64f06768b3c07c",
            "_model_module": "@jupyter-widgets/controls",
            "children": [
              "IPY_MODEL_91a28893c01e4565bde7d4d7bf474bd0",
              "IPY_MODEL_9657fdde9b7b42ea81204086112ac67c"
            ]
          }
        },
        "482735fcc2cb482ebf64f06768b3c07c": {
          "model_module": "@jupyter-widgets/base",
          "model_name": "LayoutModel",
          "state": {
            "_view_name": "LayoutView",
            "grid_template_rows": null,
            "right": null,
            "justify_content": null,
            "_view_module": "@jupyter-widgets/base",
            "overflow": null,
            "_model_module_version": "1.2.0",
            "_view_count": null,
            "flex_flow": null,
            "width": null,
            "min_width": null,
            "border": null,
            "align_items": null,
            "bottom": null,
            "_model_module": "@jupyter-widgets/base",
            "top": null,
            "grid_column": null,
            "overflow_y": null,
            "overflow_x": null,
            "grid_auto_flow": null,
            "grid_area": null,
            "grid_template_columns": null,
            "flex": null,
            "_model_name": "LayoutModel",
            "justify_items": null,
            "grid_row": null,
            "max_height": null,
            "align_content": null,
            "visibility": null,
            "align_self": null,
            "height": null,
            "min_height": null,
            "padding": null,
            "grid_auto_rows": null,
            "grid_gap": null,
            "max_width": null,
            "order": null,
            "_view_module_version": "1.2.0",
            "grid_template_areas": null,
            "object_position": null,
            "object_fit": null,
            "grid_auto_columns": null,
            "margin": null,
            "display": null,
            "left": null
          }
        },
        "91a28893c01e4565bde7d4d7bf474bd0": {
          "model_module": "@jupyter-widgets/controls",
          "model_name": "FloatProgressModel",
          "state": {
            "_view_name": "ProgressView",
            "style": "IPY_MODEL_73c2a78eb7fc48c2a203b23c49c408b6",
            "_dom_classes": [],
            "description": "Downloading: 100%",
            "_model_name": "FloatProgressModel",
            "bar_style": "success",
            "max": 377667514,
            "_view_module": "@jupyter-widgets/controls",
            "_model_module_version": "1.5.0",
            "value": 377667514,
            "_view_count": null,
            "_view_module_version": "1.5.0",
            "orientation": "horizontal",
            "min": 0,
            "description_tooltip": null,
            "_model_module": "@jupyter-widgets/controls",
            "layout": "IPY_MODEL_57d534f8cfc647da8b8db4ddd7f53992"
          }
        },
        "9657fdde9b7b42ea81204086112ac67c": {
          "model_module": "@jupyter-widgets/controls",
          "model_name": "HTMLModel",
          "state": {
            "_view_name": "HTMLView",
            "style": "IPY_MODEL_d3a920ed71544e89a677cc63d21d8568",
            "_dom_classes": [],
            "description": "",
            "_model_name": "HTMLModel",
            "placeholder": "​",
            "_view_module": "@jupyter-widgets/controls",
            "_model_module_version": "1.5.0",
            "value": " 378M/378M [00:11&lt;00:00, 33.5MB/s]",
            "_view_count": null,
            "_view_module_version": "1.5.0",
            "description_tooltip": null,
            "_model_module": "@jupyter-widgets/controls",
            "layout": "IPY_MODEL_2bc088e1661f4d01898cc290bae29a7b"
          }
        },
        "73c2a78eb7fc48c2a203b23c49c408b6": {
          "model_module": "@jupyter-widgets/controls",
          "model_name": "ProgressStyleModel",
          "state": {
            "_view_name": "StyleView",
            "_model_name": "ProgressStyleModel",
            "description_width": "initial",
            "_view_module": "@jupyter-widgets/base",
            "_model_module_version": "1.5.0",
            "_view_count": null,
            "_view_module_version": "1.2.0",
            "bar_color": null,
            "_model_module": "@jupyter-widgets/controls"
          }
        },
        "57d534f8cfc647da8b8db4ddd7f53992": {
          "model_module": "@jupyter-widgets/base",
          "model_name": "LayoutModel",
          "state": {
            "_view_name": "LayoutView",
            "grid_template_rows": null,
            "right": null,
            "justify_content": null,
            "_view_module": "@jupyter-widgets/base",
            "overflow": null,
            "_model_module_version": "1.2.0",
            "_view_count": null,
            "flex_flow": null,
            "width": null,
            "min_width": null,
            "border": null,
            "align_items": null,
            "bottom": null,
            "_model_module": "@jupyter-widgets/base",
            "top": null,
            "grid_column": null,
            "overflow_y": null,
            "overflow_x": null,
            "grid_auto_flow": null,
            "grid_area": null,
            "grid_template_columns": null,
            "flex": null,
            "_model_name": "LayoutModel",
            "justify_items": null,
            "grid_row": null,
            "max_height": null,
            "align_content": null,
            "visibility": null,
            "align_self": null,
            "height": null,
            "min_height": null,
            "padding": null,
            "grid_auto_rows": null,
            "grid_gap": null,
            "max_width": null,
            "order": null,
            "_view_module_version": "1.2.0",
            "grid_template_areas": null,
            "object_position": null,
            "object_fit": null,
            "grid_auto_columns": null,
            "margin": null,
            "display": null,
            "left": null
          }
        },
        "d3a920ed71544e89a677cc63d21d8568": {
          "model_module": "@jupyter-widgets/controls",
          "model_name": "DescriptionStyleModel",
          "state": {
            "_view_name": "StyleView",
            "_model_name": "DescriptionStyleModel",
            "description_width": "",
            "_view_module": "@jupyter-widgets/base",
            "_model_module_version": "1.5.0",
            "_view_count": null,
            "_view_module_version": "1.2.0",
            "_model_module": "@jupyter-widgets/controls"
          }
        },
        "2bc088e1661f4d01898cc290bae29a7b": {
          "model_module": "@jupyter-widgets/base",
          "model_name": "LayoutModel",
          "state": {
            "_view_name": "LayoutView",
            "grid_template_rows": null,
            "right": null,
            "justify_content": null,
            "_view_module": "@jupyter-widgets/base",
            "overflow": null,
            "_model_module_version": "1.2.0",
            "_view_count": null,
            "flex_flow": null,
            "width": null,
            "min_width": null,
            "border": null,
            "align_items": null,
            "bottom": null,
            "_model_module": "@jupyter-widgets/base",
            "top": null,
            "grid_column": null,
            "overflow_y": null,
            "overflow_x": null,
            "grid_auto_flow": null,
            "grid_area": null,
            "grid_template_columns": null,
            "flex": null,
            "_model_name": "LayoutModel",
            "justify_items": null,
            "grid_row": null,
            "max_height": null,
            "align_content": null,
            "visibility": null,
            "align_self": null,
            "height": null,
            "min_height": null,
            "padding": null,
            "grid_auto_rows": null,
            "grid_gap": null,
            "max_width": null,
            "order": null,
            "_view_module_version": "1.2.0",
            "grid_template_areas": null,
            "object_position": null,
            "object_fit": null,
            "grid_auto_columns": null,
            "margin": null,
            "display": null,
            "left": null
          }
        }
      }
    }
  },
  "cells": [
    {
      "cell_type": "markdown",
      "metadata": {
        "id": "view-in-github",
        "colab_type": "text"
      },
      "source": [
        "<a href=\"https://colab.research.google.com/github/husnain-ali21/transformers_for_nlp/blob/main/Video_Captioning_with_wave2vec_.ipynb\" target=\"_parent\"><img src=\"https://colab.research.google.com/assets/colab-badge.svg\" alt=\"Open In Colab\"/></a>"
      ]
    },
    {
      "cell_type": "code",
      "metadata": {
        "colab": {
          "base_uri": "https://localhost:8080/"
        },
        "id": "w3i2B9o8MUVS",
        "outputId": "429ee67c-67e2-43d5-9116-97d73dace14a"
      },
      "source": [
        "!pip -q install transformers\n",
        "!pip -q install youtube_dl"
      ],
      "execution_count": 1,
      "outputs": [
        {
          "output_type": "stream",
          "text": [
            "\u001b[K     |████████████████████████████████| 2.1MB 6.8MB/s \n",
            "\u001b[K     |████████████████████████████████| 3.3MB 39.1MB/s \n",
            "\u001b[K     |████████████████████████████████| 870kB 43.7MB/s \n",
            "\u001b[?25h  Building wheel for sacremoses (setup.py) ... \u001b[?25l\u001b[?25hdone\n",
            "\u001b[K     |████████████████████████████████| 1.9MB 9.2MB/s \n",
            "\u001b[?25h"
          ],
          "name": "stdout"
        }
      ]
    },
    {
      "cell_type": "code",
      "metadata": {
        "colab": {
          "base_uri": "https://localhost:8080/"
        },
        "id": "7FR8oExzMe3n",
        "outputId": "0b1fe471-b99f-431e-8187-d8a2d5155568"
      },
      "source": [
        "from transformers import Wav2Vec2Tokenizer ,Wav2Vec2ForCTC\n",
        "from IPython.display import Audio\n",
        "import moviepy.editor  as mp # Python library for video editing: cutting, concatenations, video processin\n",
        "import torch \n",
        "import librosa # python package for music and audio analysis.\n",
        "import os"
      ],
      "execution_count": 2,
      "outputs": [
        {
          "output_type": "stream",
          "text": [
            "Imageio: 'ffmpeg-linux64-v3.3.1' was not found on your computer; downloading it now.\n",
            "Try 1. Download from https://github.com/imageio/imageio-binaries/raw/master/ffmpeg/ffmpeg-linux64-v3.3.1 (43.8 MB)\n",
            "Downloading: 8192/45929032 bytes (0.0%)\b\b\b\b\b\b\b\b\b\b\b\b\b\b\b\b\b\b\b\b\b\b\b\b\b\b2686976/45929032 bytes (5.9%)\b\b\b\b\b\b\b\b\b\b\b\b\b\b\b\b\b\b\b\b\b\b\b\b\b\b\b\b\b6029312/45929032 bytes (13.1%)\b\b\b\b\b\b\b\b\b\b\b\b\b\b\b\b\b\b\b\b\b\b\b\b\b\b\b\b\b\b9723904/45929032 bytes (21.2%)\b\b\b\b\b\b\b\b\b\b\b\b\b\b\b\b\b\b\b\b\b\b\b\b\b\b\b\b\b\b13082624/45929032 bytes (28.5%)\b\b\b\b\b\b\b\b\b\b\b\b\b\b\b\b\b\b\b\b\b\b\b\b\b\b\b\b\b\b\b16621568/45929032 bytes (36.2%)\b\b\b\b\b\b\b\b\b\b\b\b\b\b\b\b\b\b\b\b\b\b\b\b\b\b\b\b\b\b\b20455424/45929032 bytes (44.5%)\b\b\b\b\b\b\b\b\b\b\b\b\b\b\b\b\b\b\b\b\b\b\b\b\b\b\b\b\b\b\b24412160/45929032 bytes (53.2%)\b\b\b\b\b\b\b\b\b\b\b\b\b\b\b\b\b\b\b\b\b\b\b\b\b\b\b\b\b\b\b27680768/45929032 bytes (60.3%)\b\b\b\b\b\b\b\b\b\b\b\b\b\b\b\b\b\b\b\b\b\b\b\b\b\b\b\b\b\b\b31006720/45929032 bytes (67.5%)\b\b\b\b\b\b\b\b\b\b\b\b\b\b\b\b\b\b\b\b\b\b\b\b\b\b\b\b\b\b\b34488320/45929032 bytes (75.1%)\b\b\b\b\b\b\b\b\b\b\b\b\b\b\b\b\b\b\b\b\b\b\b\b\b\b\b\b\b\b\b38068224/45929032 bytes (82.9%)\b\b\b\b\b\b\b\b\b\b\b\b\b\b\b\b\b\b\b\b\b\b\b\b\b\b\b\b\b\b\b41574400/45929032 bytes (90.5%)\b\b\b\b\b\b\b\b\b\b\b\b\b\b\b\b\b\b\b\b\b\b\b\b\b\b\b\b\b\b\b45563904/45929032 bytes (99.2%)\b\b\b\b\b\b\b\b\b\b\b\b\b\b\b\b\b\b\b\b\b\b\b\b\b\b\b\b\b\b\b45929032/45929032 bytes (100.0%)\n",
            "  Done\n",
            "File saved as /root/.imageio/ffmpeg/ffmpeg-linux64-v3.3.1.\n"
          ],
          "name": "stdout"
        }
      ]
    },
    {
      "cell_type": "code",
      "metadata": {
        "colab": {
          "base_uri": "https://localhost:8080/"
        },
        "id": "vUzCDQoZOcOL",
        "outputId": "f6404387-7888-48a4-9794-08a35ef28ee6"
      },
      "source": [
        "video = \"https://www.youtube.com/watch?v=rXGqKJoQ4qM&ab_channel=TheDenverPost\"  #link of video\n",
        "\n",
        "os.system(f'youtube-dl {video} --recode-video mp4')\n",
        "os.system('mv *.mp4 video.mp4')"
      ],
      "execution_count": 9,
      "outputs": [
        {
          "output_type": "execute_result",
          "data": {
            "text/plain": [
              "256"
            ]
          },
          "metadata": {
            "tags": []
          },
          "execution_count": 9
        }
      ]
    },
    {
      "cell_type": "code",
      "metadata": {
        "colab": {
          "base_uri": "https://localhost:8080/",
          "height": 319,
          "referenced_widgets": [
            "22d7192f52ca4b5db794806bc327abb6",
            "297324c7fa8d4602ac0b70a64b909265",
            "1ed7da2ac1694d94b7af8fc728abf8ab",
            "48f5e400afe24693bdded4c02f9953ea",
            "2ce6a91f3f3a453a8c21b2b375ba5b17",
            "ac61bc0a600f418a89deaef736dd186e",
            "16f62b7eee2c4708b4ecd6c651b36a8e",
            "c7b0e3de7cd54c8f9ae759ac409ba9ea",
            "8e520f56f6d14371ba8850aa02567b54",
            "2d00a0e432fa4c09ac2439e07ed2a232",
            "a9c24ddfd535466a9a9797e0cc0c8602",
            "e4a6f4d6ece841e4829682a7a347235b",
            "95e17de3443442b3b9231e13a162456b",
            "22acbc352c084d808e9975be3a5b75cb",
            "52ebaa718501400f869824d13a2c5d84",
            "f94af6fd485b4624a6de562431d50e8f",
            "a6d0479bc2d941f792a7b278702fc362",
            "7078cd908744450ea569221560120309",
            "4bc5a6ee423a4d8a9c6bdfbd62d3a817",
            "748806f1958e4763b226843d9dc442d0",
            "64a9ea8c2fdc421bb61939fd62e6825c",
            "7a7067f3dd0e484097ca3bd0026dea04",
            "9201fa44a16f4d25837a6d4736c33f6a",
            "d06c5e61aac54f1b9d8c3f6ab9f9a1f9",
            "3e38c9d76e02466c92f61344a1652c93",
            "681130a35f3f48328fa6ad79b3b9ad9f",
            "1e583f44664743bd9e3da7379867d819",
            "e271d33e41dc401bb37dd97155bf5211",
            "fde0067e6b064b4aa5c45ed119f45966",
            "c31eb13a7f094601b4d6717ebabca466",
            "e0548d36f1054f28be7df25000b47307",
            "9d0f3b66aeff4433b98d405c44f0f761",
            "80ae899bc35f4b5ab911db1690bac4cb",
            "482735fcc2cb482ebf64f06768b3c07c",
            "91a28893c01e4565bde7d4d7bf474bd0",
            "9657fdde9b7b42ea81204086112ac67c",
            "73c2a78eb7fc48c2a203b23c49c408b6",
            "57d534f8cfc647da8b8db4ddd7f53992",
            "d3a920ed71544e89a677cc63d21d8568",
            "2bc088e1661f4d01898cc290bae29a7b"
          ]
        },
        "id": "WA_kuTleQADl",
        "outputId": "73034711-4b2f-4513-a722-53858d21f70e"
      },
      "source": [
        "tokenizer = Wav2Vec2Tokenizer.from_pretrained(\"facebook/wav2vec2-base-960h\")\n",
        "model = Wav2Vec2ForCTC.from_pretrained(\"facebook/wav2vec2-base-960h\")"
      ],
      "execution_count": 5,
      "outputs": [
        {
          "output_type": "display_data",
          "data": {
            "application/vnd.jupyter.widget-view+json": {
              "model_id": "22d7192f52ca4b5db794806bc327abb6",
              "version_minor": 0,
              "version_major": 2
            },
            "text/plain": [
              "HBox(children=(FloatProgress(value=0.0, description='Downloading', max=291.0, style=ProgressStyle(description_…"
            ]
          },
          "metadata": {
            "tags": []
          }
        },
        {
          "output_type": "stream",
          "text": [
            "\n"
          ],
          "name": "stdout"
        },
        {
          "output_type": "display_data",
          "data": {
            "application/vnd.jupyter.widget-view+json": {
              "model_id": "8e520f56f6d14371ba8850aa02567b54",
              "version_minor": 0,
              "version_major": 2
            },
            "text/plain": [
              "HBox(children=(FloatProgress(value=0.0, description='Downloading', max=163.0, style=ProgressStyle(description_…"
            ]
          },
          "metadata": {
            "tags": []
          }
        },
        {
          "output_type": "stream",
          "text": [
            "\n"
          ],
          "name": "stdout"
        },
        {
          "output_type": "display_data",
          "data": {
            "application/vnd.jupyter.widget-view+json": {
              "model_id": "a6d0479bc2d941f792a7b278702fc362",
              "version_minor": 0,
              "version_major": 2
            },
            "text/plain": [
              "HBox(children=(FloatProgress(value=0.0, description='Downloading', max=85.0, style=ProgressStyle(description_w…"
            ]
          },
          "metadata": {
            "tags": []
          }
        },
        {
          "output_type": "stream",
          "text": [
            "\n"
          ],
          "name": "stdout"
        },
        {
          "output_type": "display_data",
          "data": {
            "application/vnd.jupyter.widget-view+json": {
              "model_id": "3e38c9d76e02466c92f61344a1652c93",
              "version_minor": 0,
              "version_major": 2
            },
            "text/plain": [
              "HBox(children=(FloatProgress(value=0.0, description='Downloading', max=843.0, style=ProgressStyle(description_…"
            ]
          },
          "metadata": {
            "tags": []
          }
        },
        {
          "output_type": "stream",
          "text": [
            "\n"
          ],
          "name": "stdout"
        },
        {
          "output_type": "display_data",
          "data": {
            "application/vnd.jupyter.widget-view+json": {
              "model_id": "80ae899bc35f4b5ab911db1690bac4cb",
              "version_minor": 0,
              "version_major": 2
            },
            "text/plain": [
              "HBox(children=(FloatProgress(value=0.0, description='Downloading', max=377667514.0, style=ProgressStyle(descri…"
            ]
          },
          "metadata": {
            "tags": []
          }
        },
        {
          "output_type": "stream",
          "text": [
            "\n"
          ],
          "name": "stdout"
        },
        {
          "output_type": "stream",
          "text": [
            "Some weights of Wav2Vec2ForCTC were not initialized from the model checkpoint at facebook/wav2vec2-base-960h and are newly initialized: ['wav2vec2.masked_spec_embed']\n",
            "You should probably TRAIN this model on a down-stream task to be able to use it for predictions and inference.\n"
          ],
          "name": "stderr"
        }
      ]
    },
    {
      "cell_type": "code",
      "metadata": {
        "colab": {
          "base_uri": "https://localhost:8080/"
        },
        "id": "z-ATM2pTQRzz",
        "outputId": "9879ee50-919d-45e5-cea1-ea736a1cc187"
      },
      "source": [
        "#First we'll extract the audio in mp3 format from the clip, as the Wav2Vec models expects audio input.\n",
        "# We do this in subclips of 10 second length to save some memory later on. \n",
        "\n",
        "clip = mp.VideoFileClip(\"/content/Machine learning explained in 1 minute and 20 seconds using a watermelon-rXGqKJoQ4qM.mkv\")\n",
        "end = clip.duration \n",
        "\n",
        "clip_paths = []\n",
        "\n",
        "#extract audio from video\n",
        "for i in range(1 ,int(end) ,10):\n",
        "    sub_end = min(i+10 , end)\n",
        "    sub_clip = clip.subclip(i , sub_end)\n",
        "    path = f\"audio_{i}_.mp3\"\n",
        "    sub_clip.audio.write_audiofile(path)   \n",
        "    clip_paths.append(path)\n"
      ],
      "execution_count": 14,
      "outputs": [
        {
          "output_type": "stream",
          "text": [
            "[MoviePy] Writing audio in audio_1_.mp3\n"
          ],
          "name": "stdout"
        },
        {
          "output_type": "stream",
          "text": [
            "100%|██████████| 221/221 [00:00<00:00, 602.00it/s]"
          ],
          "name": "stderr"
        },
        {
          "output_type": "stream",
          "text": [
            "[MoviePy] Done.\n"
          ],
          "name": "stdout"
        },
        {
          "output_type": "stream",
          "text": [
            "\n"
          ],
          "name": "stderr"
        },
        {
          "output_type": "stream",
          "text": [
            "[MoviePy] Writing audio in audio_11_.mp3\n"
          ],
          "name": "stdout"
        },
        {
          "output_type": "stream",
          "text": [
            "100%|██████████| 221/221 [00:00<00:00, 513.15it/s]"
          ],
          "name": "stderr"
        },
        {
          "output_type": "stream",
          "text": [
            "[MoviePy] Done.\n"
          ],
          "name": "stdout"
        },
        {
          "output_type": "stream",
          "text": [
            "\n"
          ],
          "name": "stderr"
        },
        {
          "output_type": "stream",
          "text": [
            "[MoviePy] Writing audio in audio_21_.mp3\n"
          ],
          "name": "stdout"
        },
        {
          "output_type": "stream",
          "text": [
            "100%|██████████| 221/221 [00:00<00:00, 556.80it/s]\n"
          ],
          "name": "stderr"
        },
        {
          "output_type": "stream",
          "text": [
            "[MoviePy] Done.\n",
            "[MoviePy] Writing audio in audio_31_.mp3\n"
          ],
          "name": "stdout"
        },
        {
          "output_type": "stream",
          "text": [
            "100%|██████████| 221/221 [00:00<00:00, 566.47it/s]\n"
          ],
          "name": "stderr"
        },
        {
          "output_type": "stream",
          "text": [
            "[MoviePy] Done.\n",
            "[MoviePy] Writing audio in audio_41_.mp3\n"
          ],
          "name": "stdout"
        },
        {
          "output_type": "stream",
          "text": [
            "100%|██████████| 221/221 [00:00<00:00, 500.52it/s]"
          ],
          "name": "stderr"
        },
        {
          "output_type": "stream",
          "text": [
            "[MoviePy] Done.\n"
          ],
          "name": "stdout"
        },
        {
          "output_type": "stream",
          "text": [
            "\n"
          ],
          "name": "stderr"
        },
        {
          "output_type": "stream",
          "text": [
            "[MoviePy] Writing audio in audio_51_.mp3\n"
          ],
          "name": "stdout"
        },
        {
          "output_type": "stream",
          "text": [
            "100%|██████████| 221/221 [00:00<00:00, 552.10it/s]"
          ],
          "name": "stderr"
        },
        {
          "output_type": "stream",
          "text": [
            "[MoviePy] Done.\n"
          ],
          "name": "stdout"
        },
        {
          "output_type": "stream",
          "text": [
            "\n"
          ],
          "name": "stderr"
        },
        {
          "output_type": "stream",
          "text": [
            "[MoviePy] Writing audio in audio_61_.mp3\n"
          ],
          "name": "stdout"
        },
        {
          "output_type": "stream",
          "text": [
            "100%|██████████| 221/221 [00:00<00:00, 550.55it/s]\n"
          ],
          "name": "stderr"
        },
        {
          "output_type": "stream",
          "text": [
            "[MoviePy] Done.\n",
            "[MoviePy] Writing audio in audio_71_.mp3\n"
          ],
          "name": "stdout"
        },
        {
          "output_type": "stream",
          "text": [
            "100%|██████████| 218/218 [00:00<00:00, 567.72it/s]"
          ],
          "name": "stderr"
        },
        {
          "output_type": "stream",
          "text": [
            "[MoviePy] Done.\n"
          ],
          "name": "stdout"
        },
        {
          "output_type": "stream",
          "text": [
            "\n"
          ],
          "name": "stderr"
        }
      ]
    },
    {
      "cell_type": "code",
      "metadata": {
        "colab": {
          "base_uri": "https://localhost:8080/",
          "height": 61
        },
        "id": "lT3F6DQuTo5p",
        "outputId": "84ec939f-64cd-4c95-dcc6-e6a7fd13c511"
      },
      "source": [
        "Audio(clip_paths[5])"
      ],
      "execution_count": 23,
      "outputs": [
        {
          "output_type": "execute_result",
          "data": {
            "text/html": [
              "\n",
              "                <audio controls=\"controls\" >\n",
              "                    <source src=\"data:audio/mpeg;base64,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\" type=\"audio/mpeg\" />\n",
              "                    Your browser does not support the audio element.\n",
              "                </audio>\n",
              "              "
            ],
            "text/plain": [
              "<IPython.lib.display.Audio object>"
            ]
          },
          "metadata": {
            "tags": []
          },
          "execution_count": 23
        }
      ]
    },
    {
      "cell_type": "code",
      "metadata": {
        "id": "j_6d9s18U2Dm"
      },
      "source": [
        "#now we turn audio into text with wav2vec\n",
        "transcription = \"\"\n",
        "for path in clip_paths:\n",
        "    input_audio , _ = librosa.load(path) # loading the audio\n",
        "    audio_tokens = tokenizer(input_audio , return_tensors = \"pt\"  , padding=\"longest\").input_values\n",
        "\n",
        "    with torch.no_grad():\n",
        "        logits = model(audio_tokens).logits\n",
        "        preds = torch.argmax(logits , dim = -1)\n",
        "    caption = tokenizer.batch_decode(preds)[0]\n",
        "    transcription += caption + \" \"\n",
        "\n",
        "    \n",
        "\n"
      ],
      "execution_count": 16,
      "outputs": []
    },
    {
      "cell_type": "code",
      "metadata": {
        "id": "SrmXsnviWLN_"
      },
      "source": [
        "print(transcription)"
      ],
      "execution_count": null,
      "outputs": []
    },
    {
      "cell_type": "code",
      "metadata": {
        "id": "EhMX_BITWW5I"
      },
      "source": [
        ""
      ],
      "execution_count": null,
      "outputs": []
    }
  ]
}